{
 "cells": [
  {
   "cell_type": "code",
   "execution_count": null,
   "id": "db25c86a-ff84-4c97-9fb7-0c934010d3b5",
   "metadata": {},
   "outputs": [],
   "source": [
    "# I am going to attempt parsing the information I need directly from ros with a subscriber\n",
    "# the ambf client only supports one connection at a time so it does not work if you open a second \n",
    "# client for the same object\n",
    "\n",
    "# ros and ambf imports\n",
    "import rospy\n",
    "import time\n",
    "from ambf_msgs.msg import RigidBodyState, RigidBodyCmd\n",
    "from ambf_client import Client\n",
    "from argparse import ArgumentParser"
   ]
  },
  {
   "cell_type": "code",
   "execution_count": null,
   "id": "699d739f-cc63-41c6-a11b-6c778a625edb",
   "metadata": {},
   "outputs": [],
   "source": [
    "_client = Client()\n",
    "_client.connect()\n",
    "print(_client.get_obj_names())"
   ]
  },
  {
   "cell_type": "code",
   "execution_count": 5,
   "id": "4446f13c-895a-4a71-aa1d-8c1a88bc88d3",
   "metadata": {},
   "outputs": [
    {
     "name": "stdout",
     "output_type": "stream",
     "text": [
      "shutdown request: [/ambf_client] Reason: new node registered with same name\n",
      "Closing publisher for:  /ambf/env/Plane\n",
      "Closing publisher for:  /ambf/env/lights/light1\n",
      "Closing publisher for:  /ambf/env/lights/light2\n",
      "Closing publisher for:  /ambf/env/cameras/default_camera\n",
      "Closing publisher for:  World\n",
      "Closing publisher for:  /ambf/env/psm1/baselink\n",
      "Closing publisher for:  /ambf/env/psm1/maininsertionlink\n",
      "Closing publisher for:  /ambf/env/psm1/toolrolllink\n",
      "Closing publisher for:  /ambf/env/psm1/toolpitchlink\n",
      "Closing publisher for:  /ambf/env/psm1/toolyawlink\n",
      "Closing publisher for:  /ambf/env/psm1/toolgripper1link\n",
      "Closing publisher for:  /ambf/env/psm1/toolgripper2link\n",
      "Closing publisher for:  /ambf/env/psm2/baselink\n",
      "Closing publisher for:  /ambf/env/psm2/maininsertionlink\n",
      "Closing publisher for:  /ambf/env/psm2/toolrolllink\n",
      "Closing publisher for:  /ambf/env/psm2/toolpitchlink\n",
      "Closing publisher for:  /ambf/env/psm2/toolyawlink\n",
      "Closing publisher for:  /ambf/env/psm2/toolgripper1link\n",
      "Closing publisher for:  /ambf/env/psm2/toolgripper2link\n",
      "Closing publisher for:  /ambf/env/cleft_retracted_june_7\n",
      "Closing publisher for:  /ambf/env/Icosphere\n"
     ]
    }
   ],
   "source": [
    "sphere_obj = _client.get_obj_handle('Icosphere')\n",
    "sphere_obj.set_pos(0,0,-1)"
   ]
  },
  {
   "cell_type": "code",
   "execution_count": 53,
   "id": "4e4bc367-1945-4c10-88ce-e4f780ec3e11",
   "metadata": {},
   "outputs": [
    {
     "ename": "ROSException",
     "evalue": "rospy.init_node() has already been called with different arguments: ('psm1_listen', ['/home/ethantang/.local/lib/python3.8/site-packages/ipykernel_launcher.py', '-f', '/home/ethantang/.local/share/jupyter/runtime/kernel-3789f432-ea25-4590-bcb0-612fb28dd544.json'], True, None, False, False)",
     "output_type": "error",
     "traceback": [
      "\u001b[0;31m---------------------------------------------------------------------------\u001b[0m",
      "\u001b[0;31mROSException\u001b[0m                              Traceback (most recent call last)",
      "Cell \u001b[0;32mIn[53], line 1\u001b[0m\n\u001b[0;32m----> 1\u001b[0m \u001b[43mrospy\u001b[49m\u001b[38;5;241;43m.\u001b[39;49m\u001b[43minit_node\u001b[49m\u001b[43m(\u001b[49m\u001b[38;5;124;43m'\u001b[39;49m\u001b[38;5;124;43mpsm1_listener\u001b[39;49m\u001b[38;5;124;43m'\u001b[39;49m\u001b[43m,\u001b[49m\u001b[43m \u001b[49m\u001b[43manonymous\u001b[49m\u001b[43m \u001b[49m\u001b[38;5;241;43m=\u001b[39;49m\u001b[43m \u001b[49m\u001b[38;5;28;43;01mTrue\u001b[39;49;00m\u001b[43m)\u001b[49m \n",
      "File \u001b[0;32m/opt/ros/noetic/lib/python3/dist-packages/rospy/client.py:274\u001b[0m, in \u001b[0;36minit_node\u001b[0;34m(name, argv, anonymous, log_level, disable_rostime, disable_rosout, disable_signals, xmlrpc_port, tcpros_port)\u001b[0m\n\u001b[1;32m    272\u001b[0m \u001b[38;5;28;01mif\u001b[39;00m _init_node_args:\n\u001b[1;32m    273\u001b[0m     \u001b[38;5;28;01mif\u001b[39;00m _init_node_args \u001b[38;5;241m!=\u001b[39m (name, argv, anonymous, log_level, disable_rostime, disable_signals):\n\u001b[0;32m--> 274\u001b[0m         \u001b[38;5;28;01mraise\u001b[39;00m rospy\u001b[38;5;241m.\u001b[39mexceptions\u001b[38;5;241m.\u001b[39mROSException(\u001b[38;5;124m\"\u001b[39m\u001b[38;5;124mrospy.init_node() has already been called with different arguments: \u001b[39m\u001b[38;5;124m\"\u001b[39m\u001b[38;5;241m+\u001b[39m\u001b[38;5;28mstr\u001b[39m(_init_node_args))\n\u001b[1;32m    275\u001b[0m     \u001b[38;5;28;01melse\u001b[39;00m:\n\u001b[1;32m    276\u001b[0m         \u001b[38;5;28;01mreturn\u001b[39;00m \u001b[38;5;66;03m#already initialized\u001b[39;00m\n",
      "\u001b[0;31mROSException\u001b[0m: rospy.init_node() has already been called with different arguments: ('psm1_listen', ['/home/ethantang/.local/lib/python3.8/site-packages/ipykernel_launcher.py', '-f', '/home/ethantang/.local/share/jupyter/runtime/kernel-3789f432-ea25-4590-bcb0-612fb28dd544.json'], True, None, False, False)"
     ]
    }
   ],
   "source": [
    "rospy.init_node('psm1_listener', anonymous = True) "
   ]
  },
  {
   "cell_type": "code",
   "execution_count": 57,
   "id": "3a77cad7-9353-4af1-8330-531cdd522708",
   "metadata": {},
   "outputs": [],
   "source": [
    "class rob_state:\n",
    "    def __init__(self, psmnum = 1):\n",
    "        self.psmnum = psmnum\n",
    "        self.nodename = 'psm'+str(self.psmnum)+'_listener'\n",
    "    def callback(self, data):\n",
    "        print(data)\n",
    "    def listener(self):\n",
    "        rospy.Subscriber('ambf/env/psm'+ str(self.psmnum) + '/baselink/State', RigidBodyState, self.callback)\n",
    "        rospy.spin()"
   ]
  },
  {
   "cell_type": "code",
   "execution_count": 58,
   "id": "fc3af892-6fd5-4785-b344-f31867fb619d",
   "metadata": {},
   "outputs": [],
   "source": [
    "listen = rob_state()\n",
    "listen.listener()"
   ]
  },
  {
   "cell_type": "code",
   "execution_count": null,
   "id": "a9b3ce3a-7efa-499b-af8e-a43661268893",
   "metadata": {},
   "outputs": [],
   "source": []
  }
 ],
 "metadata": {
  "kernelspec": {
   "display_name": "Python 3 (ipykernel)",
   "language": "python",
   "name": "python3"
  },
  "language_info": {
   "codemirror_mode": {
    "name": "ipython",
    "version": 3
   },
   "file_extension": ".py",
   "mimetype": "text/x-python",
   "name": "python",
   "nbconvert_exporter": "python",
   "pygments_lexer": "ipython3",
   "version": "3.8.10"
  }
 },
 "nbformat": 4,
 "nbformat_minor": 5
}
