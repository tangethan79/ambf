{
 "cells": [
  {
   "cell_type": "code",
   "execution_count": 1,
   "id": "db25c86a-ff84-4c97-9fb7-0c934010d3b5",
   "metadata": {},
   "outputs": [],
   "source": [
    "# I am going to attempt parsing the information I need directly from ros with a subscriber\n",
    "# the ambf client only supports one connection at a time so it does not work if you open a second \n",
    "# client for the same object\n",
    "\n",
    "# ros and ambf imports\n",
    "import rospy\n",
    "import time\n",
    "from ambf_msgs.msg import RigidBodyState, RigidBodyCmd\n",
    "from ambf_client import Client\n",
    "from argparse import ArgumentParser"
   ]
  },
  {
   "cell_type": "code",
   "execution_count": 2,
   "id": "699d739f-cc63-41c6-a11b-6c778a625edb",
   "metadata": {},
   "outputs": [
    {
     "name": "stdout",
     "output_type": "stream",
     "text": [
      "Found Common Object Namespace as:  /ambf/env/\n",
      "['/ambf/env/Plane', '/ambf/env/lights/light1', '/ambf/env/lights/light2', '/ambf/env/cameras/default_camera', 'World', '/ambf/env/psm1/baselink', '/ambf/env/psm1/maininsertionlink', '/ambf/env/psm1/toolrolllink', '/ambf/env/psm1/toolpitchlink', '/ambf/env/psm1/toolyawlink', '/ambf/env/psm1/toolgripper1link', '/ambf/env/psm1/toolgripper2link', '/ambf/env/psm2/baselink', '/ambf/env/psm2/maininsertionlink', '/ambf/env/psm2/toolrolllink', '/ambf/env/psm2/toolpitchlink', '/ambf/env/psm2/toolyawlink', '/ambf/env/psm2/toolgripper1link', '/ambf/env/psm2/toolgripper2link', '/ambf/env/cleft_retracted_june_7', '/ambf/env/Icosphere']\n"
     ]
    },
    {
     "name": "stderr",
     "output_type": "stream",
     "text": [
      "[WARN] [1718911489.990934]: Could not process inbound connection: topic types do not match: [ambf_msgs/ObjectCmd] vs. [ambf_msgs/RigidBodyCmd]{'callerid': '/rostopic_15427_1718911489834', 'md5sum': '091c255bd5039de21056e952538cf83c', 'message_definition': \"Header header\\nbool enable_position_controller\\ngeometry_msgs/Pose pose\\ngeometry_msgs/Wrench wrench\\nfloat32[] joint_cmds\\nbool[] position_controller_mask\\nbool publish_children_names\\nbool publish_joint_names\\nbool publish_joint_positions\\n\\n================================================================================\\nMSG: std_msgs/Header\\n# Standard metadata for higher-level stamped data types.\\n# This is generally used to communicate timestamped data \\n# in a particular coordinate frame.\\n# \\n# sequence ID: consecutively increasing ID \\nuint32 seq\\n#Two-integer timestamp that is expressed as:\\n# * stamp.sec: seconds (stamp_secs) since epoch (in Python the variable is called 'secs')\\n# * stamp.nsec: nanoseconds since stamp_secs (in Python the variable is called 'nsecs')\\n# time-handling sugar is provided by the client library\\ntime stamp\\n#Frame this data is associated with\\nstring frame_id\\n\\n================================================================================\\nMSG: geometry_msgs/Pose\\n# A representation of pose in free space, composed of position and orientation. \\nPoint position\\nQuaternion orientation\\n\\n================================================================================\\nMSG: geometry_msgs/Point\\n# This contains the position of a point in free space\\nfloat64 x\\nfloat64 y\\nfloat64 z\\n\\n================================================================================\\nMSG: geometry_msgs/Quaternion\\n# This represents an orientation in free space in quaternion form.\\n\\nfloat64 x\\nfloat64 y\\nfloat64 z\\nfloat64 w\\n\\n================================================================================\\nMSG: geometry_msgs/Wrench\\n# This represents force in free space, separated into\\n# its linear and angular parts.\\nVector3  force\\nVector3  torque\\n\\n================================================================================\\nMSG: geometry_msgs/Vector3\\n# This represents a vector in free space. \\n# It is only meant to represent a direction. Therefore, it does not\\n# make sense to apply a translation to it (e.g., when applying a \\n# generic rigid transformation to a Vector3, tf2 will only apply the\\n# rotation). If you want your data to be translatable too, use the\\n# geometry_msgs/Point message instead.\\n\\nfloat64 x\\nfloat64 y\\nfloat64 z\", 'tcp_nodelay': '0', 'topic': '/ambf/env/Icosphere/Command', 'type': 'ambf_msgs/ObjectCmd'}\n"
     ]
    }
   ],
   "source": [
    "_client = Client()\n",
    "_client.connect()\n",
    "print(_client.get_obj_names())"
   ]
  },
  {
   "cell_type": "code",
   "execution_count": 8,
   "id": "4446f13c-895a-4a71-aa1d-8c1a88bc88d3",
   "metadata": {},
   "outputs": [],
   "source": [
    "sphere_obj = _client.get_obj_handle('Icosphere')\n",
    "sphere_obj.set_pos(0,0,-1)"
   ]
  },
  {
   "cell_type": "code",
   "execution_count": 53,
   "id": "4e4bc367-1945-4c10-88ce-e4f780ec3e11",
   "metadata": {},
   "outputs": [
    {
     "ename": "ROSException",
     "evalue": "rospy.init_node() has already been called with different arguments: ('psm1_listen', ['/home/ethantang/.local/lib/python3.8/site-packages/ipykernel_launcher.py', '-f', '/home/ethantang/.local/share/jupyter/runtime/kernel-3789f432-ea25-4590-bcb0-612fb28dd544.json'], True, None, False, False)",
     "output_type": "error",
     "traceback": [
      "\u001b[0;31m---------------------------------------------------------------------------\u001b[0m",
      "\u001b[0;31mROSException\u001b[0m                              Traceback (most recent call last)",
      "Cell \u001b[0;32mIn[53], line 1\u001b[0m\n\u001b[0;32m----> 1\u001b[0m \u001b[43mrospy\u001b[49m\u001b[38;5;241;43m.\u001b[39;49m\u001b[43minit_node\u001b[49m\u001b[43m(\u001b[49m\u001b[38;5;124;43m'\u001b[39;49m\u001b[38;5;124;43mpsm1_listener\u001b[39;49m\u001b[38;5;124;43m'\u001b[39;49m\u001b[43m,\u001b[49m\u001b[43m \u001b[49m\u001b[43manonymous\u001b[49m\u001b[43m \u001b[49m\u001b[38;5;241;43m=\u001b[39;49m\u001b[43m \u001b[49m\u001b[38;5;28;43;01mTrue\u001b[39;49;00m\u001b[43m)\u001b[49m \n",
      "File \u001b[0;32m/opt/ros/noetic/lib/python3/dist-packages/rospy/client.py:274\u001b[0m, in \u001b[0;36minit_node\u001b[0;34m(name, argv, anonymous, log_level, disable_rostime, disable_rosout, disable_signals, xmlrpc_port, tcpros_port)\u001b[0m\n\u001b[1;32m    272\u001b[0m \u001b[38;5;28;01mif\u001b[39;00m _init_node_args:\n\u001b[1;32m    273\u001b[0m     \u001b[38;5;28;01mif\u001b[39;00m _init_node_args \u001b[38;5;241m!=\u001b[39m (name, argv, anonymous, log_level, disable_rostime, disable_signals):\n\u001b[0;32m--> 274\u001b[0m         \u001b[38;5;28;01mraise\u001b[39;00m rospy\u001b[38;5;241m.\u001b[39mexceptions\u001b[38;5;241m.\u001b[39mROSException(\u001b[38;5;124m\"\u001b[39m\u001b[38;5;124mrospy.init_node() has already been called with different arguments: \u001b[39m\u001b[38;5;124m\"\u001b[39m\u001b[38;5;241m+\u001b[39m\u001b[38;5;28mstr\u001b[39m(_init_node_args))\n\u001b[1;32m    275\u001b[0m     \u001b[38;5;28;01melse\u001b[39;00m:\n\u001b[1;32m    276\u001b[0m         \u001b[38;5;28;01mreturn\u001b[39;00m \u001b[38;5;66;03m#already initialized\u001b[39;00m\n",
      "\u001b[0;31mROSException\u001b[0m: rospy.init_node() has already been called with different arguments: ('psm1_listen', ['/home/ethantang/.local/lib/python3.8/site-packages/ipykernel_launcher.py', '-f', '/home/ethantang/.local/share/jupyter/runtime/kernel-3789f432-ea25-4590-bcb0-612fb28dd544.json'], True, None, False, False)"
     ]
    }
   ],
   "source": [
    "rospy.init_node('psm1_listener', anonymous = True) "
   ]
  },
  {
   "cell_type": "code",
   "execution_count": 57,
   "id": "3a77cad7-9353-4af1-8330-531cdd522708",
   "metadata": {},
   "outputs": [],
   "source": [
    "class rob_state:\n",
    "    def __init__(self, psmnum = 1):\n",
    "        self.psmnum = psmnum\n",
    "        self.nodename = 'psm'+str(self.psmnum)+'_listener'\n",
    "    def callback(self, data):\n",
    "        print(data)\n",
    "    def listener(self):\n",
    "        rospy.Subscriber('ambf/env/psm'+ str(self.psmnum) + '/baselink/State', RigidBodyState, self.callback)\n",
    "        rospy.spin()"
   ]
  },
  {
   "cell_type": "code",
   "execution_count": 58,
   "id": "fc3af892-6fd5-4785-b344-f31867fb619d",
   "metadata": {},
   "outputs": [],
   "source": [
    "listen = rob_state()\n",
    "listen.listener()"
   ]
  },
  {
   "cell_type": "code",
   "execution_count": null,
   "id": "a9b3ce3a-7efa-499b-af8e-a43661268893",
   "metadata": {},
   "outputs": [],
   "source": []
  }
 ],
 "metadata": {
  "kernelspec": {
   "display_name": "Python 3 (ipykernel)",
   "language": "python",
   "name": "python3"
  },
  "language_info": {
   "codemirror_mode": {
    "name": "ipython",
    "version": 3
   },
   "file_extension": ".py",
   "mimetype": "text/x-python",
   "name": "python",
   "nbconvert_exporter": "python",
   "pygments_lexer": "ipython3",
   "version": "3.8.10"
  }
 },
 "nbformat": 4,
 "nbformat_minor": 5
}
